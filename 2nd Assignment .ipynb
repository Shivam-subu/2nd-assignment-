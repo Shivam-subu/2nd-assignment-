{
 "cells": [
  {
   "cell_type": "markdown",
   "id": "f995f258-ded4-425e-9c13-abc3001943bf",
   "metadata": {},
   "source": [
    "Q1. Which keyword is used to create a function? Create a function to return a list of odd numbers in the\n",
    "range of 1 to 25.\n",
    "\n",
    "Ans. In Python, the keyword used to create a function is \"def\". Here's an example of a function that returns a list of odd numbers in the range of 1 to 25:\n",
    "\n",
    "def get_odd_numbers():\n",
    "    odd_numbers = []\n",
    "    for num in range(1, 26):\n",
    "        if num % 2 != 0:\n",
    "            odd_numbers.append(num)\n",
    "    return odd_numbers\n",
    "\n",
    "# Call the function and print the result\n",
    "result = get_odd_numbers()\n",
    "print(result)\n",
    "\n",
    "When you run this code, it will output the following:\n",
    "[1, 3, 5, 7, 9, 11, 13, 15, 17, 19, 21, 23, 25]\n"
   ]
  },
  {
   "cell_type": "markdown",
   "id": "58d1acb7-ba0c-4e4a-9871-6cd15a3f1c19",
   "metadata": {},
   "source": [
    "Q2. Why *args and **kwargs is used in some functions? Create a function each for *args and **kwargs to\n",
    "demonstrate their use.\n",
    "Ans. The *args parameter allows you to pass a variable number of positional arguments to a function. It collects all the positional arguments passed to the function into a tuple. The asterisk (*) before the parameter name args is used to unpack the arguments into a tuple.\n",
    "\n",
    "Here's an example of a function that uses *args to concatenate a variable number of strings:\n",
    "\n",
    "def concatenate_strings(*args):\n",
    "    result = \"\"\n",
    "    for arg in args:\n",
    "        result += arg\n",
    "    return result\n",
    "\n",
    "# Call the function with different number of arguments\n",
    "print(concatenate_strings(\"Hello\", \" \", \"world!\"))  # Output: Hello world!\n",
    "print(concatenate_strings(\"I\", \" \", \"love\", \" \", \"Python\"))  # Output: I love Python\n",
    " \n",
    " In the above example, the concatenate_strings function takes any number of string arguments. It concatenates all the strings passed to it and returns the result.\n",
    "\n",
    "\n",
    "On the other hand, **kwargs parameter allows you to pass a variable number of keyword arguments to a function. It collects all the keyword arguments as a dictionary, where the keys are the argument names and the values are the corresponding argument values. The double asterisks (**) before the parameter name kwargs is used to unpack the keyword arguments into a dictionary.\n",
    "\n",
    "Here's an example of a function that uses **kwargs to display the details of a person:\n",
    "\n",
    "def display_person_details(**kwargs):\n",
    "    for key, value in kwargs.items():\n",
    "        print(f\"{key}: {value}\")\n",
    "\n",
    "# Call the function with different keyword arguments\n",
    "display_person_details(name=\"John\", age=30)\n",
    "# Output:\n",
    "# name: John\n",
    "# age: 30\n",
    "\n",
    "display_person_details(name=\"Alice\", age=25, city=\"New York\")\n",
    "# Output:\n",
    "# name: Alice\n",
    "# age: 25\n",
    "# city: New York\n",
    "\n",
    "By using *args and **kwargs, functions become more flexible, allowing you to pass different numbers of arguments or keyword arguments without having to specify them explicitly in the function definition.\n"
   ]
  },
  {
   "cell_type": "markdown",
   "id": "e9963515-afe4-4db6-a9f8-7ce41318eeaa",
   "metadata": {},
   "source": [
    "Q3. What is an iterator in python? Name the method used to initialise the iterator object and the method\n",
    "used for iteration. Use these methods to print the first five elements of the given list [2, 4, 6, 8, 10, 12, 14, 16,\n",
    "18, 20].\n",
    "\n",
    "Ans.\n",
    " an iterator is an object that allows you to traverse through a collection of elements one by one. It provides a way to access the elements sequentially without exposing the underlying implementation details of the collection.\n",
    "\n",
    "To create an iterator object, you need to define a class that implements two special methods: __iter__() and __next__(). The __iter__() method is used to initialize the iterator object and return itself, and the __next__() method is used to retrieve the next element in the iteration.\n",
    "\n",
    "Here's an example of creating an iterator class for the given list [2, 4, 6, 8, 10, 12, 14, 16, 18, 20] and printing the first five elements:\n",
    "\n",
    "class ListIterator:\n",
    "    def __init__(self, lst):\n",
    "        self.lst = lst\n",
    "        self.index = 0\n",
    "\n",
    "    def __iter__(self):\n",
    "        return self\n",
    "\n",
    "    def __next__(self):\n",
    "        if self.index < len(self.lst):\n",
    "            element = self.lst[self.index]\n",
    "            self.index += 1\n",
    "            return element\n",
    "        else:\n",
    "            raise StopIteration\n",
    "\n",
    "# Create an iterator object\n",
    "my_iterator = ListIterator([2, 4, 6, 8, 10, 12, 14, 16, 18, 20])\n",
    "\n",
    "# Iterate and print the first five elements\n",
    "for _ in range(5):\n",
    "    print(next(my_iterator))\n",
    "\n",
    "Output:\n",
    "2\n",
    "4\n",
    "6\n",
    "8\n",
    "10\n",
    "\n",
    "In the above example, the ListIterator class is defined with the __init__(), __iter__(), and __next__() methods. The __init__() method initializes the iterator object by storing the given list and setting the initial index to 0.\n",
    "\n",
    "The __iter__() method returns the iterator object itself.\n",
    "\n",
    "The __next__() method retrieves the next element from the list. If there are more elements, it increments the index and returns the element. If there are no more elements, it raises the StopIteration exception to signal the end of iteration.\n",
    "\n",
    "By using the next() function or iterating with a for loop, you can call the __next__() method of the iterator object to retrieve the next element in the sequence. In the example above, the first five elements of the list are printed using a for loop and the next() function.\n"
   ]
  },
  {
   "cell_type": "markdown",
   "id": "61634050-90c7-4820-a8e2-ffb2566a884a",
   "metadata": {},
   "source": [
    "Q4. What is a generator function in python? Why yield keyword is used? Give an example of a generator\n",
    "function.\n",
    "\n",
    "Ans. a generator function is a special type of function that returns an iterator, which can be iterated over to generate a sequence of values. It allows you to create iterators in a more concise and memory-efficient manner compared to traditional iterator classes.\n",
    "\n",
    "The yield keyword is used in a generator function to specify the value to be yielded (returned) as the next element in the sequence. When the generator function is called, it doesn't execute the entire function at once. Instead, it returns a generator object that can be iterated over. Each time the yield statement is encountered, the function pauses its execution and yields the value, which can then be accessed by the caller. The function state is saved, and the next time the generator is iterated, it resumes execution from where it left off.\n",
    "\n",
    "The yield keyword allows generator functions to generate values on-the-fly, lazily, and efficiently, as it doesn't require storing the entire sequence in memory. This makes generator functions useful for working with large or infinite sequences, where generating all elements at once would be impractical or impossible.\n",
    "Here's an example of a generator function that generates a sequence of even numbers:"
   ]
  },
  {
   "cell_type": "code",
   "execution_count": 1,
   "id": "8b09669c-cae6-4af2-b472-e537147daf28",
   "metadata": {},
   "outputs": [
    {
     "name": "stdout",
     "output_type": "stream",
     "text": [
      "0\n",
      "2\n",
      "4\n",
      "6\n",
      "8\n"
     ]
    }
   ],
   "source": [
    "def even_numbers_generator(n):\n",
    "    for i in range(n):\n",
    "        if i % 2 == 0:\n",
    "            yield i\n",
    "\n",
    "# Create a generator object\n",
    "even_gen = even_numbers_generator(10)\n",
    "\n",
    "# Iterate over the generator and print the values\n",
    "for num in even_gen:\n",
    "    print(num)\n"
   ]
  },
  {
   "cell_type": "markdown",
   "id": "570f2eda-6362-47dd-8eb1-dc9021e6674e",
   "metadata": {},
   "source": [
    "In the above example, the even_numbers_generator function is defined as a generator function. It takes a parameter n and uses a for loop to iterate from 0 to n-1. The if condition checks if the current number i is even, and if it is, it yields (returns) the number.\n",
    "\n",
    "When the generator function is called with even_numbers_generator(10), it returns a generator object. Then, by iterating over the generator object using a for loop, the yield statements are executed, and the even numbers from 0 to 10 are printed.\n",
    "\n",
    "Notice that the generator function only generates the next value in the sequence when it is requested, and it retains its internal state between successive iterations. This lazy evaluation and state retention make generator functions memory-efficient and suitable for working with large or infinite sequences."
   ]
  },
  {
   "cell_type": "markdown",
   "id": "9cb4990f-148c-415e-b05c-e5956b7c558e",
   "metadata": {},
   "source": [
    "Q5. Create a generator function for prime numbers less than 1000. Use the next() method to print the\n",
    "first 20 prime numbers."
   ]
  },
  {
   "cell_type": "code",
   "execution_count": 2,
   "id": "8f9aa68b-8689-4991-bfe8-b8ae034e0697",
   "metadata": {},
   "outputs": [
    {
     "name": "stdout",
     "output_type": "stream",
     "text": [
      "2\n",
      "3\n",
      "5\n",
      "7\n",
      "11\n",
      "13\n",
      "17\n",
      "19\n",
      "23\n",
      "29\n",
      "31\n",
      "37\n",
      "41\n",
      "43\n",
      "47\n",
      "53\n",
      "59\n",
      "61\n",
      "67\n",
      "71\n"
     ]
    }
   ],
   "source": [
    "def prime_generator():\n",
    "    primes = []\n",
    "    num = 2\n",
    "\n",
    "    while True:\n",
    "        if all(num % prime != 0 for prime in primes):\n",
    "            primes.append(num)\n",
    "            yield num\n",
    "        num += 1\n",
    "\n",
    "# Create a generator object\n",
    "prime_gen = prime_generator()\n",
    "\n",
    "# Print the first 20 prime numbers\n",
    "for _ in range(20):\n",
    "    print(next(prime_gen))\n"
   ]
  }
 ],
 "metadata": {
  "kernelspec": {
   "display_name": "Python 3 (ipykernel)",
   "language": "python",
   "name": "python3"
  },
  "language_info": {
   "codemirror_mode": {
    "name": "ipython",
    "version": 3
   },
   "file_extension": ".py",
   "mimetype": "text/x-python",
   "name": "python",
   "nbconvert_exporter": "python",
   "pygments_lexer": "ipython3",
   "version": "3.10.8"
  }
 },
 "nbformat": 4,
 "nbformat_minor": 5
}
